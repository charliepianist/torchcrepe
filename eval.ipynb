{
  "cells": [
    {
      "cell_type": "markdown",
      "source": [
        "# Evaluation using CREPE and Gentle Forced Aligner"
      ],
      "metadata": {
        "nteract": {
          "transient": {
            "deleting": false
          }
        }
      }
    },
    {
      "cell_type": "code",
      "source": [
        "# Dependencies\r\n",
        "!pip install librosa\r\n",
        "!pip install tensorflow==2.6.0\r\n",
        "!pip install keras==2.6.0\r\n",
        "!pip install crepe\r\n",
        "!pip install scipy --upgrade\r\n",
        "!pip install h5py\r\n",
        "!pip install dtw-python\r\n",
        "!pip install mido\r\n",
        "\r\n",
        "# Things used so far:\r\n",
        "\"\"\"\r\n",
        "CREPE - Deep Learning Pitch Detector\r\n",
        "Gentle Forced Aligner - Forced Alignment\r\n",
        "Mido - Reading MIDI Files\r\n",
        "dtw-python - Dynamic Time Warping to join CREPE output with MIDI file\r\n",
        "\"\"\"\r\n",
        "\r\n",
        "# Imports\r\n",
        "import os\r\n",
        "import pickle\r\n",
        "import json\r\n",
        "\r\n",
        "import numpy as np\r\n",
        "import pandas as pd\r\n",
        "import matplotlib.pyplot as plt\r\n",
        "\r\n",
        "import crepe\r\n",
        "from scipy.io import wavfile\r\n",
        "from mido import MidiFile\r\n",
        "from dtw import *"
      ],
      "outputs": [
        {
          "output_type": "stream",
          "name": "stdout",
          "text": "Requirement already satisfied: librosa in /anaconda/envs/azureml_py36/lib/python3.6/site-packages (0.8.1)\nRequirement already satisfied: scikit-learn!=0.19.0,>=0.14.0 in /anaconda/envs/azureml_py36/lib/python3.6/site-packages (from librosa) (0.22.2.post1)\nRequirement already satisfied: numba>=0.43.0 in /anaconda/envs/azureml_py36/lib/python3.6/site-packages (from librosa) (0.53.1)\nRequirement already satisfied: joblib>=0.14 in /anaconda/envs/azureml_py36/lib/python3.6/site-packages (from librosa) (0.14.1)\nRequirement already satisfied: resampy>=0.2.2 in /anaconda/envs/azureml_py36/lib/python3.6/site-packages (from librosa) (0.2.2)\nRequirement already satisfied: audioread>=2.0.0 in /anaconda/envs/azureml_py36/lib/python3.6/site-packages (from librosa) (2.1.9)\nRequirement already satisfied: soundfile>=0.10.2 in /anaconda/envs/azureml_py36/lib/python3.6/site-packages (from librosa) (0.10.3.post1)\nRequirement already satisfied: decorator>=3.0.0 in /anaconda/envs/azureml_py36/lib/python3.6/site-packages (from librosa) (5.0.9)\nRequirement already satisfied: numpy>=1.15.0 in /anaconda/envs/azureml_py36/lib/python3.6/site-packages (from librosa) (1.19.5)\nRequirement already satisfied: pooch>=1.0 in /anaconda/envs/azureml_py36/lib/python3.6/site-packages (from librosa) (1.5.2)\nRequirement already satisfied: scipy>=1.0.0 in /anaconda/envs/azureml_py36/lib/python3.6/site-packages (from librosa) (1.5.4)\nRequirement already satisfied: packaging>=20.0 in /anaconda/envs/azureml_py36/lib/python3.6/site-packages (from librosa) (21.0)\nRequirement already satisfied: llvmlite<0.37,>=0.36.0rc1 in /anaconda/envs/azureml_py36/lib/python3.6/site-packages (from numba>=0.43.0->librosa) (0.36.0)\nRequirement already satisfied: setuptools in /anaconda/envs/azureml_py36/lib/python3.6/site-packages (from numba>=0.43.0->librosa) (50.3.0)\nRequirement already satisfied: six>=1.3 in /anaconda/envs/azureml_py36/lib/python3.6/site-packages (from resampy>=0.2.2->librosa) (1.15.0)\nRequirement already satisfied: cffi>=1.0 in /anaconda/envs/azureml_py36/lib/python3.6/site-packages (from soundfile>=0.10.2->librosa) (1.14.6)\nRequirement already satisfied: appdirs in /anaconda/envs/azureml_py36/lib/python3.6/site-packages (from pooch>=1.0->librosa) (1.4.4)\nRequirement already satisfied: requests in /anaconda/envs/azureml_py36/lib/python3.6/site-packages (from pooch>=1.0->librosa) (2.26.0)\nRequirement already satisfied: pyparsing>=2.0.2 in /anaconda/envs/azureml_py36/lib/python3.6/site-packages (from packaging>=20.0->librosa) (2.4.7)\nRequirement already satisfied: pycparser in /anaconda/envs/azureml_py36/lib/python3.6/site-packages (from cffi>=1.0->soundfile>=0.10.2->librosa) (2.20)\nRequirement already satisfied: urllib3<1.27,>=1.21.1 in /anaconda/envs/azureml_py36/lib/python3.6/site-packages (from requests->pooch>=1.0->librosa) (1.25.11)\nRequirement already satisfied: charset-normalizer~=2.0.0; python_version >= \"3\" in /anaconda/envs/azureml_py36/lib/python3.6/site-packages (from requests->pooch>=1.0->librosa) (2.0.4)\nRequirement already satisfied: certifi>=2017.4.17 in /anaconda/envs/azureml_py36/lib/python3.6/site-packages (from requests->pooch>=1.0->librosa) (2021.5.30)\nRequirement already satisfied: idna<4,>=2.5; python_version >= \"3\" in /anaconda/envs/azureml_py36/lib/python3.6/site-packages (from requests->pooch>=1.0->librosa) (3.2)\nRequirement already satisfied: tensorflow==2.6.0 in /anaconda/envs/azureml_py36/lib/python3.6/site-packages (2.6.0)\nRequirement already satisfied: tensorboard~=2.6 in /anaconda/envs/azureml_py36/lib/python3.6/site-packages (from tensorflow==2.6.0) (2.7.0)\nRequirement already satisfied: flatbuffers~=1.12.0 in /anaconda/envs/azureml_py36/lib/python3.6/site-packages (from tensorflow==2.6.0) (1.12)\nRequirement already satisfied: keras-preprocessing~=1.1.2 in /anaconda/envs/azureml_py36/lib/python3.6/site-packages (from tensorflow==2.6.0) (1.1.2)\nRequirement already satisfied: typing-extensions~=3.7.4 in /anaconda/envs/azureml_py36/lib/python3.6/site-packages (from tensorflow==2.6.0) (3.7.4.3)\nRequirement already satisfied: wheel~=0.35 in /anaconda/envs/azureml_py36/lib/python3.6/site-packages (from tensorflow==2.6.0) (0.35.1)\nRequirement already satisfied: six~=1.15.0 in /anaconda/envs/azureml_py36/lib/python3.6/site-packages (from tensorflow==2.6.0) (1.15.0)\nRequirement already satisfied: wrapt~=1.12.1 in /anaconda/envs/azureml_py36/lib/python3.6/site-packages (from tensorflow==2.6.0) (1.12.1)\nRequirement already satisfied: astunparse~=1.6.3 in /anaconda/envs/azureml_py36/lib/python3.6/site-packages (from tensorflow==2.6.0) (1.6.3)\nRequirement already satisfied: clang~=5.0 in /anaconda/envs/azureml_py36/lib/python3.6/site-packages (from tensorflow==2.6.0) (5.0)\nRequirement already satisfied: termcolor~=1.1.0 in /anaconda/envs/azureml_py36/lib/python3.6/site-packages (from tensorflow==2.6.0) (1.1.0)\nRequirement already satisfied: numpy~=1.19.2 in /anaconda/envs/azureml_py36/lib/python3.6/site-packages (from tensorflow==2.6.0) (1.19.5)\nRequirement already satisfied: absl-py~=0.10 in /anaconda/envs/azureml_py36/lib/python3.6/site-packages (from tensorflow==2.6.0) (0.13.0)\nRequirement already satisfied: keras~=2.6 in /anaconda/envs/azureml_py36/lib/python3.6/site-packages (from tensorflow==2.6.0) (2.6.0)\nRequirement already satisfied: opt-einsum~=3.3.0 in /anaconda/envs/azureml_py36/lib/python3.6/site-packages (from tensorflow==2.6.0) (3.3.0)\nRequirement already satisfied: gast==0.4.0 in /anaconda/envs/azureml_py36/lib/python3.6/site-packages (from tensorflow==2.6.0) (0.4.0)\nRequirement already satisfied: tensorflow-estimator~=2.6 in /anaconda/envs/azureml_py36/lib/python3.6/site-packages (from tensorflow==2.6.0) (2.7.0)\nRequirement already satisfied: grpcio<2.0,>=1.37.0 in /anaconda/envs/azureml_py36/lib/python3.6/site-packages (from tensorflow==2.6.0) (1.39.0)\nRequirement already satisfied: h5py~=3.1.0 in /anaconda/envs/azureml_py36/lib/python3.6/site-packages (from tensorflow==2.6.0) (3.1.0)\nRequirement already satisfied: protobuf>=3.9.2 in /anaconda/envs/azureml_py36/lib/python3.6/site-packages (from tensorflow==2.6.0) (3.17.3)\nRequirement already satisfied: google-pasta~=0.2 in /anaconda/envs/azureml_py36/lib/python3.6/site-packages (from tensorflow==2.6.0) (0.2.0)\nRequirement already satisfied: tensorboard-data-server<0.7.0,>=0.6.0 in /anaconda/envs/azureml_py36/lib/python3.6/site-packages (from tensorboard~=2.6->tensorflow==2.6.0) (0.6.1)\nRequirement already satisfied: setuptools>=41.0.0 in /anaconda/envs/azureml_py36/lib/python3.6/site-packages (from tensorboard~=2.6->tensorflow==2.6.0) (50.3.0)\nRequirement already satisfied: tensorboard-plugin-wit>=1.6.0 in /anaconda/envs/azureml_py36/lib/python3.6/site-packages (from tensorboard~=2.6->tensorflow==2.6.0) (1.8.0)\nRequirement already satisfied: markdown>=2.6.8 in /anaconda/envs/azureml_py36/lib/python3.6/site-packages (from tensorboard~=2.6->tensorflow==2.6.0) (3.3.4)\nRequirement already satisfied: google-auth<3,>=1.6.3 in /anaconda/envs/azureml_py36/lib/python3.6/site-packages (from tensorboard~=2.6->tensorflow==2.6.0) (1.35.0)\nRequirement already satisfied: requests<3,>=2.21.0 in /anaconda/envs/azureml_py36/lib/python3.6/site-packages (from tensorboard~=2.6->tensorflow==2.6.0) (2.26.0)\nRequirement already satisfied: google-auth-oauthlib<0.5,>=0.4.1 in /anaconda/envs/azureml_py36/lib/python3.6/site-packages (from tensorboard~=2.6->tensorflow==2.6.0) (0.4.6)\nRequirement already satisfied: werkzeug>=0.11.15 in /anaconda/envs/azureml_py36/lib/python3.6/site-packages (from tensorboard~=2.6->tensorflow==2.6.0) (1.0.1)\nRequirement already satisfied: cached-property; python_version < \"3.8\" in /anaconda/envs/azureml_py36/lib/python3.6/site-packages (from h5py~=3.1.0->tensorflow==2.6.0) (1.5.2)\nRequirement already satisfied: importlib-metadata; python_version < \"3.8\" in /anaconda/envs/azureml_py36/lib/python3.6/site-packages (from markdown>=2.6.8->tensorboard~=2.6->tensorflow==2.6.0) (4.8.1)\nRequirement already satisfied: cachetools<5.0,>=2.0.0 in /anaconda/envs/azureml_py36/lib/python3.6/site-packages (from google-auth<3,>=1.6.3->tensorboard~=2.6->tensorflow==2.6.0) (4.2.2)\nRequirement already satisfied: pyasn1-modules>=0.2.1 in /anaconda/envs/azureml_py36/lib/python3.6/site-packages (from google-auth<3,>=1.6.3->tensorboard~=2.6->tensorflow==2.6.0) (0.2.8)\nRequirement already satisfied: rsa<5,>=3.1.4; python_version >= \"3.6\" in /anaconda/envs/azureml_py36/lib/python3.6/site-packages (from google-auth<3,>=1.6.3->tensorboard~=2.6->tensorflow==2.6.0) (4.7.2)\nRequirement already satisfied: charset-normalizer~=2.0.0; python_version >= \"3\" in /anaconda/envs/azureml_py36/lib/python3.6/site-packages (from requests<3,>=2.21.0->tensorboard~=2.6->tensorflow==2.6.0) (2.0.4)\nRequirement already satisfied: urllib3<1.27,>=1.21.1 in /anaconda/envs/azureml_py36/lib/python3.6/site-packages (from requests<3,>=2.21.0->tensorboard~=2.6->tensorflow==2.6.0) (1.25.11)\nRequirement already satisfied: idna<4,>=2.5; python_version >= \"3\" in /anaconda/envs/azureml_py36/lib/python3.6/site-packages (from requests<3,>=2.21.0->tensorboard~=2.6->tensorflow==2.6.0) (3.2)\nRequirement already satisfied: certifi>=2017.4.17 in /anaconda/envs/azureml_py36/lib/python3.6/site-packages (from requests<3,>=2.21.0->tensorboard~=2.6->tensorflow==2.6.0) (2021.5.30)\nRequirement already satisfied: requests-oauthlib>=0.7.0 in /anaconda/envs/azureml_py36/lib/python3.6/site-packages (from google-auth-oauthlib<0.5,>=0.4.1->tensorboard~=2.6->tensorflow==2.6.0) (1.3.0)\nRequirement already satisfied: zipp>=0.5 in /anaconda/envs/azureml_py36/lib/python3.6/site-packages (from importlib-metadata; python_version < \"3.8\"->markdown>=2.6.8->tensorboard~=2.6->tensorflow==2.6.0) (3.5.0)\nRequirement already satisfied: pyasn1<0.5.0,>=0.4.6 in /anaconda/envs/azureml_py36/lib/python3.6/site-packages (from pyasn1-modules>=0.2.1->google-auth<3,>=1.6.3->tensorboard~=2.6->tensorflow==2.6.0) (0.4.8)\nRequirement already satisfied: oauthlib>=3.0.0 in /anaconda/envs/azureml_py36/lib/python3.6/site-packages (from requests-oauthlib>=0.7.0->google-auth-oauthlib<0.5,>=0.4.1->tensorboard~=2.6->tensorflow==2.6.0) (3.1.1)\nRequirement already satisfied: keras==2.6.0 in /anaconda/envs/azureml_py36/lib/python3.6/site-packages (2.6.0)\nRequirement already satisfied: crepe in /anaconda/envs/azureml_py36/lib/python3.6/site-packages (0.0.12)\nRequirement already satisfied: matplotlib>=2.1.0 in /anaconda/envs/azureml_py36/lib/python3.6/site-packages (from crepe) (3.2.1)\nRequirement already satisfied: h5py in /anaconda/envs/azureml_py36/lib/python3.6/site-packages (from crepe) (3.1.0)\nRequirement already satisfied: hmmlearn<0.3.0,>=0.2.0 in /anaconda/envs/azureml_py36/lib/python3.6/site-packages (from crepe) (0.2.6)\nRequirement already satisfied: imageio>=2.3.0 in /anaconda/envs/azureml_py36/lib/python3.6/site-packages (from crepe) (2.9.0)\nRequirement already satisfied: numpy>=1.14.0 in /anaconda/envs/azureml_py36/lib/python3.6/site-packages (from crepe) (1.19.5)\nRequirement already satisfied: scipy>=1.0.0 in /anaconda/envs/azureml_py36/lib/python3.6/site-packages (from crepe) (1.5.4)\nRequirement already satisfied: scikit-learn>=0.16 in /anaconda/envs/azureml_py36/lib/python3.6/site-packages (from crepe) (0.22.2.post1)\nRequirement already satisfied: resampy<0.3.0,>=0.2.0 in /anaconda/envs/azureml_py36/lib/python3.6/site-packages (from crepe) (0.2.2)\nRequirement already satisfied: python-dateutil>=2.1 in /anaconda/envs/azureml_py36/lib/python3.6/site-packages (from matplotlib>=2.1.0->crepe) (2.8.2)\nRequirement already satisfied: pyparsing!=2.0.4,!=2.1.2,!=2.1.6,>=2.0.1 in /anaconda/envs/azureml_py36/lib/python3.6/site-packages (from matplotlib>=2.1.0->crepe) (2.4.7)\nRequirement already satisfied: kiwisolver>=1.0.1 in /anaconda/envs/azureml_py36/lib/python3.6/site-packages (from matplotlib>=2.1.0->crepe) (1.3.1)\nRequirement already satisfied: cycler>=0.10 in /anaconda/envs/azureml_py36/lib/python3.6/site-packages (from matplotlib>=2.1.0->crepe) (0.10.0)\nRequirement already satisfied: cached-property; python_version < \"3.8\" in /anaconda/envs/azureml_py36/lib/python3.6/site-packages (from h5py->crepe) (1.5.2)\nRequirement already satisfied: pillow in /anaconda/envs/azureml_py36/lib/python3.6/site-packages (from imageio>=2.3.0->crepe) (8.0.0)\nRequirement already satisfied: joblib>=0.11 in /anaconda/envs/azureml_py36/lib/python3.6/site-packages (from scikit-learn>=0.16->crepe) (0.14.1)\nRequirement already satisfied: numba>=0.32 in /anaconda/envs/azureml_py36/lib/python3.6/site-packages (from resampy<0.3.0,>=0.2.0->crepe) (0.53.1)\nRequirement already satisfied: six>=1.3 in /anaconda/envs/azureml_py36/lib/python3.6/site-packages (from resampy<0.3.0,>=0.2.0->crepe) (1.15.0)\nRequirement already satisfied: setuptools in /anaconda/envs/azureml_py36/lib/python3.6/site-packages (from numba>=0.32->resampy<0.3.0,>=0.2.0->crepe) (50.3.0)\nRequirement already satisfied: llvmlite<0.37,>=0.36.0rc1 in /anaconda/envs/azureml_py36/lib/python3.6/site-packages (from numba>=0.32->resampy<0.3.0,>=0.2.0->crepe) (0.36.0)\nRequirement already up-to-date: scipy in /anaconda/envs/azureml_py36/lib/python3.6/site-packages (1.5.4)\nRequirement already satisfied, skipping upgrade: numpy>=1.14.5 in /anaconda/envs/azureml_py36/lib/python3.6/site-packages (from scipy) (1.19.5)\nRequirement already satisfied: h5py in /anaconda/envs/azureml_py36/lib/python3.6/site-packages (3.1.0)\nRequirement already satisfied: cached-property; python_version < \"3.8\" in /anaconda/envs/azureml_py36/lib/python3.6/site-packages (from h5py) (1.5.2)\nRequirement already satisfied: numpy>=1.12; python_version == \"3.6\" in /anaconda/envs/azureml_py36/lib/python3.6/site-packages (from h5py) (1.19.5)\nRequirement already satisfied: dtw-python in /anaconda/envs/azureml_py36/lib/python3.6/site-packages (1.1.10)\nRequirement already satisfied: numpy>=1.19 in /anaconda/envs/azureml_py36/lib/python3.6/site-packages (from dtw-python) (1.19.5)\nRequirement already satisfied: scipy>=1.1 in /anaconda/envs/azureml_py36/lib/python3.6/site-packages (from dtw-python) (1.5.4)\nRequirement already satisfied: mido in /anaconda/envs/azureml_py36/lib/python3.6/site-packages (1.2.10)\nImporting the dtw module. When using in academic works please cite:\n  T. Giorgino. Computing and Visualizing Dynamic Time Warping Alignments in R: The dtw Package.\n  J. Stat. Soft., doi:10.18637/jss.v031.i07.\n\n"
        }
      ],
      "execution_count": 1,
      "metadata": {
        "jupyter": {
          "source_hidden": false,
          "outputs_hidden": false
        },
        "nteract": {
          "transient": {
            "deleting": false
          }
        },
        "gather": {
          "logged": 1641178109156
        }
      }
    },
    {
      "cell_type": "markdown",
      "source": [
        "## Configurables and Setup"
      ],
      "metadata": {
        "nteract": {
          "transient": {
            "deleting": false
          }
        }
      }
    },
    {
      "cell_type": "code",
      "source": [
        "# Combination methods for times from forced aligner and pitch detector\r\n",
        "def cmb_average(fa_time, pd_time):\r\n",
        "    if fa_time is None or np.isnan(fa_time):\r\n",
        "        if pd_time is None or np.isnan(pd_time):\r\n",
        "            raise(Exception('Both times are None, cannot combine'))\r\n",
        "        return pd_time\r\n",
        "    if pd_time is None or np.isnan(pd_time):\r\n",
        "        return fa_time\r\n",
        "    return (fa_time + pd_time) / 2\r\n",
        "\r\n",
        "# Average, but fall back to pitch detector time if forced aligner is far off\r\n",
        "def cmb_average_threshold(thresh):\r\n",
        "    return lambda x,y : cmb_average_threshold_helper(x, y, thresh)\r\n",
        "def cmb_average_threshold_helper(fa_time, pd_time, threshold):\r\n",
        "    if fa_time is None or np.isnan(fa_time):\r\n",
        "        if pd_time is None or np.isnan(pd_time):\r\n",
        "            raise(Exception('Both times are None, cannot combine'))\r\n",
        "        return pd_time\r\n",
        "    if pd_time is None or np.isnan(pd_time):\r\n",
        "        return fa_time\r\n",
        "\r\n",
        "    # Fall back to pitch detector time\r\n",
        "    if abs(fa_time - pd_time) > threshold:\r\n",
        "        return pd_time\r\n",
        "    return (fa_time + pd_time) / 2\r\n",
        "\r\n",
        "# Same as cmb_average, but allow both to be None/NaN\r\n",
        "def cmb_average_lenient(time1, time2):\r\n",
        "    if time1 is None or np.isnan(time1):\r\n",
        "        if time2 is None or np.isnan(time2):\r\n",
        "            return np.nan\r\n",
        "        return time2\r\n",
        "    if time2 is None or np.isnan(time2):\r\n",
        "        return time1\r\n",
        "    return (time1 + time2) / 2"
      ],
      "outputs": [],
      "execution_count": 2,
      "metadata": {
        "jupyter": {
          "source_hidden": false,
          "outputs_hidden": false
        },
        "nteract": {
          "transient": {
            "deleting": false
          }
        },
        "gather": {
          "logged": 1641178109299
        }
      }
    },
    {
      "cell_type": "code",
      "source": [
        "# Configurables\r\n",
        "# Data paths\r\n",
        "data_path = 'data/test/CSD/wav/converted'\r\n",
        "midi_path = 'data/test/CSD/mid'\r\n",
        "lyric_note_path = 'data/test/CSD/lyric_mid'\r\n",
        "ref_alignment_path = 'data/test/CSD/csv'\r\n",
        "align_path = 'out/align'\r\n",
        "pitch_path = 'out/pitch'\r\n",
        "\r\n",
        "# Meta-options\r\n",
        "num_files = 6 # How many data points to evaluate on? (Set to -1 or None to evaluate on all available files)\r\n",
        "skip_files = ['en002a', 'en002b'] # Forced aligner output is completely off because of \"Gloria\" being almost 10 seconds long 6 times in the song\r\n",
        "\r\n",
        "# Forced aligner options\r\n",
        "max_word_length = 2 # Maximum length of a given word, in seconds, for forced aligner\r\n",
        "\r\n",
        "# Audio options\r\n",
        "midi_stretch = 50 # For convenience of DTW viewing, stretch each note by this many times (1 for no stretching)\r\n",
        "# Prefer false, but it seems to mess up plotting of the alignment (however, it seems to still be correct output-wise? idk why only the plot is messed up)\r\n",
        "use_frequency = True # If true, will use raw frequencies (e.g. 440 Hz) rather than note values (i.e. MIDI values, where A4 = 69 and Bb4 = 70).\r\n",
        "pd_offset = 0.005 # Offset for pitch detector times (using 0.005 for now because the increments are 0, 0.01, 0.02 so we will just use the middle of each time period)\r\n",
        "\r\n",
        "# DTW options\r\n",
        "start_end_constraint = True # Whether the pitch detector alignment forces first word to start at 0 seconds and last word to end at end of file. Note that if this is True, the pitch detector's output will be ignored for the start of the first word and end of last word\r\n",
        "\r\n",
        "# Evaluation\r\n",
        "misalign_threshold = 0.5 # Threshold at which a matching will be considered a misalignment\r\n",
        "threshold = 1.5 # Threshold (in seconds) of how different forced aligner and pitch detector times can be before just using pitch detector (for when forced aligner is very off)\r\n",
        "combine_func = cmb_average_threshold(threshold) # Method to combine forced aligner and pitch detector times\r\n",
        "start_end_combine_func = cmb_average_lenient # Method to combine start and end times of a word for simpler evaluation\r\n",
        "skip_pd_edges = True # Whether to skip the pitch detector start time for first word and end time for last word\r\n",
        "\r\n",
        "# Read in wavfiles\r\n",
        "raw_filenames = []\r\n",
        "wavfiles = [] # (sample rate, audio data)\r\n",
        "i = 0\r\n",
        "for filename in os.listdir(data_path):\r\n",
        "    if filename.endswith(\".wav\"):\r\n",
        "        # print(os.path.join(data_path, filename))\r\n",
        "        raw_filenames.append(filename[:-4])\r\n",
        "        wavfiles.append(wavfile.read(os.path.join(data_path, filename)))\r\n",
        "\r\n",
        "        # limit # files\r\n",
        "        i += 1\r\n",
        "        if i >= num_files and num_files > 0:\r\n",
        "            break\r\n",
        "\r\n",
        "num_points = i # This should be the length of raw_filenames, as well as just about every other array relating to data\r\n",
        "print('files:', raw_filenames)\r\n",
        "\r\n",
        "# Read in MIDIs\r\n",
        "midis = []\r\n",
        "for filename in raw_filenames:\r\n",
        "    midis.append(MidiFile(os.path.join(midi_path, filename + '.mid')))\r\n",
        "\r\n",
        "# For each midi, convert to a more useful format\r\n",
        "midi_references = []\r\n",
        "midi_timings = []\r\n",
        "for i, mid in enumerate(midis):\r\n",
        "    track = mid.tracks[0]\r\n",
        "    if len(mid.tracks) > 1:\r\n",
        "        track = mid.tracks[1]\r\n",
        "\r\n",
        "    # Simply keep track of note after note\r\n",
        "    reference = []\r\n",
        "    timing = []\r\n",
        "    time = 0\r\n",
        "    for msg in track:\r\n",
        "        # For debugging\r\n",
        "        # if i == 0:\r\n",
        "        #     print(msg)\r\n",
        "        if msg.type == 'note_on' or msg.type == 'note_off':\r\n",
        "            freq = msg.note\r\n",
        "            if use_frequency:\r\n",
        "                # Prefer not to convert frequency because we probably want values linear in note value, not exponential in note value (as frequencies are)\r\n",
        "                freq = 27.5 * 2 ** ((msg.note - 21) / 12) \r\n",
        "            time += msg.time\r\n",
        "            # add to arrays\r\n",
        "            for j in range(midi_stretch): \r\n",
        "                reference.append(freq)\r\n",
        "                timing.append(time)\r\n",
        "        elif msg.type != 'track_name' and msg.type != 'set_tempo' and msg.type != 'time_signature' and msg.type != 'end_of_track' and msg.type != 'key_signature':\r\n",
        "            # encountered a message type that may mean something?\r\n",
        "            print('[WARNING]', msg.type + ' encountered:', msg)\r\n",
        "\r\n",
        "    midi_references.append(reference)\r\n",
        "    midi_timings.append(timing)\r\n",
        "\r\n",
        "# Fetch forced alignment info\r\n",
        "word_starts = [] # Array of arrays of start times of words\r\n",
        "word_ends = []\r\n",
        "for filename in raw_filenames:\r\n",
        "    # Get JSON object\r\n",
        "    f = open(os.path.join(align_path, filename + '.json'),)\r\n",
        "    data = json.load(f)\r\n",
        "    \r\n",
        "    # Iterate through the matches\r\n",
        "    starts = []\r\n",
        "    ends = []\r\n",
        "    x = 0\r\n",
        "    temp = 0\r\n",
        "    for match_obj in data['words']:\r\n",
        "        if match_obj['case'] == 'success':\r\n",
        "            if match_obj['end'] - match_obj['start'] <= max_word_length:\r\n",
        "                ends.append(match_obj['end'])\r\n",
        "                starts.append(match_obj['start'])\r\n",
        "            else:\r\n",
        "                starts.append(None)\r\n",
        "                ends.append(None)\r\n",
        "            # match_obj['word'] gets the word from transcription\r\n",
        "        else:\r\n",
        "            # Match not found\r\n",
        "            starts.append(None)\r\n",
        "            ends.append(None)\r\n",
        "    word_starts.append(starts)\r\n",
        "    word_ends.append(ends)\r\n",
        "\r\n",
        "# Fetch word to note (index) mappings\r\n",
        "word_start_notes = [] # array of arrays mapping word i to the index of the note which marks its start\r\n",
        "for filename in raw_filenames:\r\n",
        "    csvfile = pd.read_csv(os.path.join(lyric_note_path, filename) + '.csv')\r\n",
        "    word_start_notes.append(csvfile['start_note'].to_numpy())\r\n",
        "\r\n",
        "# Fetch word to reference start/end time mappings\r\n",
        "target_starts = []\r\n",
        "target_ends = []\r\n",
        "for filename in raw_filenames:\r\n",
        "    csvfile = pd.read_csv(os.path.join(ref_alignment_path, filename) + '.csv')\r\n",
        "    starts = []\r\n",
        "    ends = []\r\n",
        "    curr_idx = 0\r\n",
        "    curr_word = csvfile['word'].iloc[curr_idx]\r\n",
        "\r\n",
        "    # Iterate word by word to get start and end times by word instead of syllable (todo: split by syllables)\r\n",
        "    while curr_idx < len(csvfile['word']):\r\n",
        "        starts.append(csvfile['start'].iloc[curr_idx])\r\n",
        "        while curr_idx < len(csvfile['word']) and csvfile['word'].iloc[curr_idx] == curr_word:\r\n",
        "            curr_idx += 1\r\n",
        "        ends.append(csvfile['end'].iloc[curr_idx - 1])\r\n",
        "        # Update current word\r\n",
        "        if curr_idx < len(csvfile['word']):\r\n",
        "            curr_word = csvfile['word'].iloc[curr_idx]\r\n",
        "\r\n",
        "    target_starts.append(np.array(starts))\r\n",
        "    target_ends.append(np.array(ends))"
      ],
      "outputs": [
        {
          "output_type": "stream",
          "name": "stdout",
          "text": "files: ['en001a', 'en001b', 'en002a', 'en002b', 'en003a', 'en003b']\n[WARNING] control_change encountered: control_change channel=0 control=121 value=0 time=0\n[WARNING] program_change encountered: program_change channel=0 program=0 time=0\n[WARNING] control_change encountered: control_change channel=0 control=7 value=100 time=0\n[WARNING] control_change encountered: control_change channel=0 control=10 value=64 time=0\n[WARNING] control_change encountered: control_change channel=0 control=91 value=0 time=0\n[WARNING] control_change encountered: control_change channel=0 control=93 value=0 time=0\n[WARNING] midi_port encountered: MetaMessage('midi_port', port=0, time=0)\n[WARNING] control_change encountered: control_change channel=0 control=121 value=0 time=0\n[WARNING] program_change encountered: program_change channel=0 program=0 time=0\n[WARNING] control_change encountered: control_change channel=0 control=7 value=100 time=0\n[WARNING] control_change encountered: control_change channel=0 control=10 value=64 time=0\n[WARNING] control_change encountered: control_change channel=0 control=91 value=0 time=0\n[WARNING] control_change encountered: control_change channel=0 control=93 value=0 time=0\n[WARNING] midi_port encountered: MetaMessage('midi_port', port=0, time=0)\n[WARNING] control_change encountered: control_change channel=0 control=121 value=0 time=0\n[WARNING] program_change encountered: program_change channel=0 program=0 time=0\n[WARNING] control_change encountered: control_change channel=0 control=7 value=100 time=0\n[WARNING] control_change encountered: control_change channel=0 control=10 value=64 time=0\n[WARNING] control_change encountered: control_change channel=0 control=91 value=0 time=0\n[WARNING] control_change encountered: control_change channel=0 control=93 value=0 time=0\n[WARNING] midi_port encountered: MetaMessage('midi_port', port=0, time=0)\n[WARNING] control_change encountered: control_change channel=0 control=121 value=0 time=0\n[WARNING] program_change encountered: program_change channel=0 program=0 time=0\n[WARNING] control_change encountered: control_change channel=0 control=7 value=100 time=0\n[WARNING] control_change encountered: control_change channel=0 control=10 value=64 time=0\n[WARNING] control_change encountered: control_change channel=0 control=91 value=0 time=0\n[WARNING] control_change encountered: control_change channel=0 control=93 value=0 time=0\n[WARNING] midi_port encountered: MetaMessage('midi_port', port=0, time=0)\n[WARNING] control_change encountered: control_change channel=0 control=121 value=0 time=0\n[WARNING] program_change encountered: program_change channel=0 program=0 time=0\n[WARNING] control_change encountered: control_change channel=0 control=7 value=100 time=0\n[WARNING] control_change encountered: control_change channel=0 control=10 value=64 time=0\n[WARNING] control_change encountered: control_change channel=0 control=91 value=0 time=0\n[WARNING] control_change encountered: control_change channel=0 control=93 value=0 time=0\n[WARNING] midi_port encountered: MetaMessage('midi_port', port=0, time=0)\n[WARNING] control_change encountered: control_change channel=0 control=121 value=0 time=0\n[WARNING] program_change encountered: program_change channel=0 program=0 time=0\n[WARNING] control_change encountered: control_change channel=0 control=7 value=100 time=0\n[WARNING] control_change encountered: control_change channel=0 control=10 value=64 time=0\n[WARNING] control_change encountered: control_change channel=0 control=91 value=0 time=0\n[WARNING] control_change encountered: control_change channel=0 control=93 value=0 time=0\n[WARNING] midi_port encountered: MetaMessage('midi_port', port=0, time=0)\n"
        }
      ],
      "execution_count": 3,
      "metadata": {
        "gather": {
          "logged": 1641178112831
        }
      }
    },
    {
      "cell_type": "markdown",
      "source": [
        "## Running and Loading Predictions"
      ],
      "metadata": {
        "nteract": {
          "transient": {
            "deleting": false
          }
        }
      }
    },
    {
      "cell_type": "code",
      "source": [
        "# Run/load crepe predictions\r\n",
        "def save_obj(filename, objs):\r\n",
        "    with open(filename, 'wb') as outp:\r\n",
        "        for obj in objs:\r\n",
        "            pickle.dump(obj, outp, pickle.HIGHEST_PROTOCOL)\r\n",
        "\r\n",
        "def read_obj(filename, num_to_read):\r\n",
        "    objs = []\r\n",
        "    with open(filename, 'rb') as inp:\r\n",
        "        for i in range(num_to_read):\r\n",
        "            objs.append(pickle.load(inp))\r\n",
        "        return objs\r\n",
        "\r\n",
        "times = []\r\n",
        "frequencies = []\r\n",
        "confidences = []\r\n",
        "activations = []\r\n",
        "# Run/load crepe predictions\r\n",
        "for i, file_info in enumerate(wavfiles):\r\n",
        "    filename = os.path.join(pitch_path, raw_filenames[i] + '.pkl')\r\n",
        "    if os.path.exists(filename):\r\n",
        "        # Read cached prediction outputs\r\n",
        "        arr = read_obj(filename, 4)\r\n",
        "        time = arr[0]\r\n",
        "        frequency = arr[1]\r\n",
        "        confidence = arr[2]\r\n",
        "        activation = arr[3]\r\n",
        "    else:\r\n",
        "        # Run prediction and save output\r\n",
        "        sr = file_info[0]\r\n",
        "        audio = file_info[1]\r\n",
        "        time, frequency, confidence, activation = crepe.predict(audio, sr, viterbi=True)\r\n",
        "        save_obj(filename, [time, frequency, confidence, activation])\r\n",
        "    \r\n",
        "    # freq = 27.5 * 2 ** ((msg.note - 21) / 12) \r\n",
        "    # Convert frequency back to note -> note = 12 * log_2(freq / 27.5) + 21\r\n",
        "    if not use_frequency:\r\n",
        "        for idx in range(len(frequency)):\r\n",
        "            frequency[idx] = 12 * np.log2(frequency[idx] / 27.5) + 21\r\n",
        "            if not frequency[idx] >= 0:\r\n",
        "                print(frequency[idx])\r\n",
        "\r\n",
        "    times.append(time)\r\n",
        "    frequencies.append(frequency)\r\n",
        "    confidences.append(confidence)\r\n",
        "    activations.append(activation)\r\n",
        "\r\n",
        "    # print(time, frequency, confidence, activation)"
      ],
      "outputs": [
        {
          "output_type": "stream",
          "name": "stdout",
          "text": "[0.000e+00 1.000e-02 2.000e-02 ... 6.478e+01 6.479e+01 6.480e+01] [32.97224247 32.57189768 32.4065771  ... 49.04862956 49.01639921\n 49.06320917] [0.01889071 0.06190223 0.03802142 ... 0.04450408 0.03986016 0.0235799 ] [[0.00676242 0.0121406  0.01553246 ... 0.0035986  0.00391659 0.00547093]\n [0.00217712 0.00300938 0.00371149 ... 0.00677952 0.00794712 0.01024583]\n [0.00175115 0.00139049 0.00128102 ... 0.00202459 0.00221089 0.0028753 ]\n ...\n [0.00218505 0.00209308 0.00210947 ... 0.03896302 0.03561017 0.03712952]\n [0.00166011 0.00190276 0.00217196 ... 0.03508133 0.03299692 0.03402016]\n [0.00074667 0.00084871 0.00113332 ... 0.01762247 0.02110183 0.0235799 ]]\n364.2562114768226\n[0.000e+00 1.000e-02 2.000e-02 ... 6.478e+01 6.479e+01 6.480e+01] [32.83772768 32.91416761 33.16306219 ... 49.54494696 49.61841633\n 49.397034  ] [0.02067664 0.04698685 0.02665249 ... 0.02104345 0.05813247 0.08474353] [[0.00846186 0.01460171 0.0192658  ... 0.00286826 0.00313234 0.00589299]\n [0.01303652 0.02548152 0.03900278 ... 0.00179535 0.00194022 0.00323725]\n [0.00286523 0.00450927 0.00706771 ... 0.0012497  0.0012207  0.00187734]\n ...\n [0.00147432 0.00148192 0.00183493 ... 0.00271448 0.00349787 0.00462487]\n [0.00539267 0.00574568 0.005869   ... 0.00531566 0.00800049 0.01074219]\n [0.01147121 0.01183045 0.01177317 ... 0.00546348 0.00735158 0.00842452]]\n329.98449955459637\n[0.0000e+00 1.0000e-02 2.0000e-02 ... 1.3835e+02 1.3836e+02 1.3837e+02] [ 32.99857997  33.31569547  33.96815212 ... 990.78323586 990.20311492\n 984.51082272] [0.02964896 0.04768488 0.19535193 ... 0.011637   0.00979605 0.02103055] [[0.0140948  0.02015066 0.02384171 ... 0.00091934 0.00080478 0.00154245]\n [0.00520536 0.00872749 0.01391092 ... 0.00071585 0.00059408 0.00103202]\n [0.00521272 0.00750634 0.01404428 ... 0.00145203 0.00147662 0.00305092]\n ...\n [0.00129536 0.00194037 0.00338876 ... 0.00201678 0.00234836 0.00458905]\n [0.00118244 0.00099334 0.00116432 ... 0.00311199 0.00349411 0.00552884]\n [0.00253472 0.0019576  0.00199568 ... 0.01295823 0.01485145 0.0178299 ]]\n428.44021882391723\n[0.0000e+00 1.0000e-02 2.0000e-02 ... 1.3835e+02 1.3836e+02 1.3837e+02] [32.49686822 32.19362258 32.25909336 ... 33.60859778 32.98220737\n 32.86084683] [0.03793779 0.05067664 0.02556878 ... 0.10635045 0.0361172  0.03715038] [[0.03394976 0.03793779 0.03675333 ... 0.00101951 0.00125962 0.00245616]\n [0.01147336 0.00814122 0.00556484 ... 0.00363579 0.0032869  0.00323611]\n [0.00472662 0.00321093 0.00233528 ... 0.00281635 0.00247383 0.00306603]\n ...\n [0.00503027 0.00760573 0.01590976 ... 0.00258121 0.00302422 0.00850704]\n [0.01237237 0.01587951 0.02201778 ... 0.00477812 0.00586474 0.01185378]\n [0.00948581 0.01016465 0.01011333 ... 0.00800803 0.01073262 0.02295375]]\n340.6338630172392\n[0.000e+00 1.000e-02 2.000e-02 ... 6.258e+01 6.259e+01 6.260e+01] [1788.41387255 1790.27200728 1770.70038071 ...   32.41491347   32.36140848\n   32.33735332] [0.05167875 0.03813884 0.06640193 ... 0.08535695 0.03618291 0.01961347] [[0.02141583 0.03468227 0.03809792 ... 0.00783476 0.00690657 0.00813782]\n [0.02816138 0.03813884 0.03676105 ... 0.02005464 0.01595184 0.01600125]\n [0.01740646 0.01742631 0.01521665 ... 0.0203189  0.01793763 0.0188078 ]\n ...\n [0.00317827 0.00237459 0.00203556 ... 0.00461796 0.00368884 0.00372744]\n [0.00175846 0.00133133 0.0011678  ... 0.0017615  0.00157633 0.00162029]\n [0.0038617  0.00347799 0.00335827 ... 0.00147668 0.00153646 0.00194523]]\n337.6650340001397\n[0.000e+00 1.000e-02 2.000e-02 ... 6.258e+01 6.259e+01 6.260e+01] [32.48763881 32.48834351 32.31208767 ... 32.41491347 32.36140848\n 32.33735332] [0.05167875 0.03813884 0.06640193 ... 0.08535695 0.03618291 0.01961347] [[0.02141583 0.03468227 0.03809792 ... 0.00783476 0.00690657 0.00813782]\n [0.02816138 0.03813884 0.03676105 ... 0.02005464 0.01595184 0.01600125]\n [0.01740646 0.01742631 0.01521665 ... 0.0203189  0.01793763 0.0188078 ]\n ...\n [0.00317827 0.00237459 0.00203556 ... 0.00461796 0.00368884 0.00372744]\n [0.00175846 0.00133133 0.0011678  ... 0.0017615  0.00157633 0.00162029]\n [0.0038617  0.00347799 0.00335827 ... 0.00147668 0.00153646 0.00194523]]\n341.7691803498481\n"
        }
      ],
      "execution_count": 8,
      "metadata": {
        "jupyter": {
          "source_hidden": false,
          "outputs_hidden": false
        },
        "nteract": {
          "transient": {
            "deleting": false
          }
        },
        "gather": {
          "logged": 1641178275788
        }
      }
    },
    {
      "cell_type": "code",
      "source": [
        "# Run Dynamic Time Warping on each pair of predictions and reference MIDI\r\n",
        "alignments = []\r\n",
        "for i in range(len(times)):\r\n",
        "    if raw_filenames[i] in skip_files:\r\n",
        "        alignments.append(None) # fill in empty slot in array\r\n",
        "        continue\r\n",
        "        \r\n",
        "    query = frequencies[i]\r\n",
        "    template = midi_references[i]\r\n",
        "    print('Running DTW on', raw_filenames[i], '(length of query, template:', str(len(query)) + ', ' + str(len(template)) + ')')\r\n",
        "    ## Find the best match with the canonical recursion formula\r\n",
        "    alignment = dtw(query, template, keep_internals=True, open_end=not start_end_constraint, open_begin=not start_end_constraint)\r\n",
        "    alignments.append(alignment)\r\n",
        "\r\n",
        "    # Plotting the matching\r\n",
        "    if i == 0:\r\n",
        "        off = -1000 if use_frequency else -50\r\n",
        "        alignment.plot(type=\"twoway\",offset=off)\r\n",
        "        # plt.plot(reference)\r\n",
        "        # plt.plot(alignment.index2,query[alignment.index1]) # query warped onto reference\r\n"
      ],
      "outputs": [
        {
          "output_type": "stream",
          "name": "stdout",
          "text": "Running DTW on en001a (length of query, template: 6481, 8600)\n"
        },
        {
          "output_type": "display_data",
          "data": {
            "text/plain": "<Figure size 432x288 with 2 Axes>",
            "image/png": "[encoded data removed]"
          },
          "metadata": {
            "needs_background": "light"
          }
        },
        {
          "output_type": "stream",
          "name": "stdout",
          "text": "Running DTW on en001b (length of query, template: 6481, 8600)\nRunning DTW on en003a (length of query, template: 6261, 9800)\nRunning DTW on en003b (length of query, template: 6261, 9800)\n"
        }
      ],
      "execution_count": 5,
      "metadata": {
        "jupyter": {
          "source_hidden": false,
          "outputs_hidden": false
        },
        "nteract": {
          "transient": {
            "deleting": false
          }
        },
        "gather": {
          "logged": 1641178128581
        }
      }
    },
    {
      "cell_type": "markdown",
      "source": [
        "## Evaluation"
      ],
      "metadata": {
        "nteract": {
          "transient": {
            "deleting": false
          }
        }
      }
    },
    {
      "cell_type": "code",
      "source": [
        "# Combine outputs\r\n",
        "fa_errors = []\r\n",
        "pd_errors = []\r\n",
        "errors = []\r\n",
        "fa_misalign = []\r\n",
        "pd_misalign = []\r\n",
        "misalign = []\r\n",
        "for i in range(num_points):\r\n",
        "    if raw_filenames[i] in skip_files:\r\n",
        "        continue\r\n",
        "    # Convert DTW output into start and end times of each word\r\n",
        "    ref_lyric_note_alignment = word_start_notes[i]\r\n",
        "\r\n",
        "    # (reference) Start/end times, indexed by word index\r\n",
        "    ref_start_times = target_starts[i]\r\n",
        "    ref_end_times = target_ends[i]\r\n",
        "    num_words = len(ref_start_times) # number of words in sample\r\n",
        "    # (forced alignment) Start/end times, indexed by word index\r\n",
        "    fa_start_times = np.array(word_starts[i], dtype=np.float64)\r\n",
        "    fa_end_times = np.array(word_ends[i], dtype=np.float64)\r\n",
        "    # (reference) Start/end note indices (i.e. 0 if first note, 1 if second, etc), inclusive, indexed by word index\r\n",
        "    ref_start_notes = []\r\n",
        "    ref_end_notes = []\r\n",
        "    for j in range(len(ref_lyric_note_alignment)):\r\n",
        "        ref_start_notes.append(ref_lyric_note_alignment[j])\r\n",
        "        ref_end_notes.append(ref_lyric_note_alignment[j+1] - 1 if j < len(ref_lyric_note_alignment) - 1 else -1) # -1 if last note\r\n",
        "    # (pitch detector) alignment (index1 is indices in x, where x is query and y is reference)\r\n",
        "    pd_alignment = alignments[i]\r\n",
        "    # (pitch detector) times, indexed by query notes\r\n",
        "    pd_times = times[i]\r\n",
        "    query_indices = pd_alignment.index1\r\n",
        "    reference_indices = pd_alignment.index2\r\n",
        "\r\n",
        "    # Map alignment times to words\r\n",
        "    curr_ref_idx = 0 # current index in reference_indices\r\n",
        "    pd_start_times = [] # start times of each word, according to pitch detector\r\n",
        "    pd_end_times = [] # end times of each word, according to pitch detector\r\n",
        "    for word_idx in range(num_words):\r\n",
        "        # Get the corresponding query index and plug it into the note times\r\n",
        "        pd_start_times.append(pd_times[query_indices[curr_ref_idx]] + pd_offset)\r\n",
        "\r\n",
        "        # go until the last note that is associated with this word (scale up by midi_stretch because we streteched each reference note by that much, scale up by 2 because each note appears twice)\r\n",
        "        last_note = (ref_end_notes[word_idx] + 1) * 2 * midi_stretch - 1 if ref_end_notes[word_idx] >= 0 else reference_indices[-1]\r\n",
        "        while curr_ref_idx < len(reference_indices) and reference_indices[curr_ref_idx] <= last_note:\r\n",
        "            curr_ref_idx += 1\r\n",
        "\r\n",
        "        # Get the corresponding query index (one before where we stopped) and plug it into the note times\r\n",
        "        pd_end_times.append(pd_times[query_indices[curr_ref_idx - 1]] + pd_offset)\r\n",
        "    pd_start_times = np.array(pd_start_times)\r\n",
        "    pd_end_times = np.array(pd_end_times)\r\n",
        "\r\n",
        "    # Combine forced aligner and pitch detector times\r\n",
        "    pred_start_times = np.array([combine_func(fa_start_times[j], pd_start_times[j]) for j in range(num_words)])\r\n",
        "    pred_end_times = np.array([combine_func(fa_end_times[j], pd_end_times[j]) for j in range(num_words)])\r\n",
        "    if start_end_constraint:\r\n",
        "        if fa_start_times[0] is not None:\r\n",
        "            pred_start_times[0] = fa_start_times[0]\r\n",
        "        if fa_end_times[-1] is not None:\r\n",
        "            pred_end_times[-1] = fa_end_times[-1]\r\n",
        "\r\n",
        "    # Combined times (\"average\" of start and end times of each word)\r\n",
        "    fa_cmb_times = np.array([start_end_combine_func(fa_start_times[j], fa_end_times[j]) for j in range(num_words)])\r\n",
        "    pd_cmb_times = np.array([start_end_combine_func(pd_start_times[j], pd_end_times[j]) for j in range(num_words)])\r\n",
        "    pred_cmb_times = np.array([start_end_combine_func(pred_start_times[j], pred_end_times[j]) for j in range(num_words)])\r\n",
        "    ref_cmb_times = np.array([start_end_combine_func(ref_start_times[j], ref_end_times[j]) for j in range(num_words)])\r\n",
        "\r\n",
        "    # Evaluate outputs!\r\n",
        "    pd_residual_start_times = pd_start_times - ref_start_times\r\n",
        "    pd_residual_end_times = pd_end_times - ref_end_times\r\n",
        "    fa_residual_start_times = fa_start_times - ref_start_times\r\n",
        "    fa_residual_end_times = fa_end_times - ref_end_times\r\n",
        "    residual_start_times = pred_start_times - ref_start_times\r\n",
        "    residual_end_times = pred_end_times - ref_end_times\r\n",
        "    # plt.plot(residual_start_times)\r\n",
        "    # plt.plot(pd_residual_start_times)\r\n",
        "    # plt.plot(fa_residual_start_times)\r\n",
        "    fa_residual_nans = np.count_nonzero(np.isnan(fa_residual_start_times))\r\n",
        "    pd_residual_nans = np.count_nonzero(np.isnan(pd_residual_start_times))\r\n",
        "    print('===============================================================================')\r\n",
        "    print('Results for file', raw_filenames[i])\r\n",
        "    print('===============================================================================')\r\n",
        "    if fa_residual_nans > 0:\r\n",
        "        print('[WARNING] There are', fa_residual_nans, 'NaNs in forced aligner output out of', num_words, 'total')\r\n",
        "        if fa_residual_nans > num_words / 4:\r\n",
        "            print('[WARNING] Omitting due to > 25% missed forced alignment matches')\r\n",
        "            continue\r\n",
        "    if pd_residual_nans > 0:\r\n",
        "        print('[WARNING] There are', pd_residual_nans, 'NaNs in pitch detector output out of', num_words, 'total')\r\n",
        "        if pd_residual_nans > num_words / 4:\r\n",
        "            print('[WARNING] Omitting due to > 25% pitch detector matches')\r\n",
        "            continue\r\n",
        "    print('Average forced aligner error (start):', np.nanmean(np.abs(fa_residual_start_times)))\r\n",
        "    print('Average forced aligner error (end):', np.nanmean(np.abs(fa_residual_end_times)))\r\n",
        "    print('Average pitch detector error (start):', np.nanmean(np.abs(pd_residual_start_times)))\r\n",
        "    print('Average pitch detector error (end):', np.nanmean(np.abs(pd_residual_end_times)))\r\n",
        "    print('Average combined error (start):', np.nanmean(np.abs(residual_start_times)))\r\n",
        "    print('Average combined error (end):', np.nanmean(np.abs(residual_end_times)))\r\n",
        "\r\n",
        "    pd_residual_cmb_times = pd_cmb_times - ref_cmb_times\r\n",
        "    fa_residual_cmb_times = fa_cmb_times - ref_cmb_times\r\n",
        "    # plt.plot(fa_residual_cmb_times)\r\n",
        "    # print(np.argmax(fa_residual_cmb_times))\r\n",
        "    # plt.title(raw_filenames[i])\r\n",
        "    # plt.show()\r\n",
        "    residual_cmb_times = pred_cmb_times - ref_cmb_times\r\n",
        "\r\n",
        "    # Append errors\r\n",
        "    fa_error = np.nanmean(np.abs(fa_residual_cmb_times))\r\n",
        "    fa_errors.append(fa_error)\r\n",
        "    pd_error = np.nanmean(np.abs(pd_residual_cmb_times))\r\n",
        "    pd_errors.append(pd_error)\r\n",
        "    error = np.nanmean(np.abs(residual_cmb_times))\r\n",
        "    errors.append(error)\r\n",
        "\r\n",
        "    # Append misalignment rates\r\n",
        "    fa_misalign_count = 1 - np.count_nonzero(np.less(np.abs(fa_residual_cmb_times), misalign_threshold)) / num_words\r\n",
        "    fa_misalign.append(fa_misalign_count)\r\n",
        "    pd_misalign_count = 1 - np.count_nonzero(np.less(np.abs(pd_residual_cmb_times), misalign_threshold)) / num_words\r\n",
        "    pd_misalign.append(pd_misalign_count)\r\n",
        "    misalign_count = 1 - np.count_nonzero(np.less(np.abs(residual_cmb_times), misalign_threshold)) / num_words\r\n",
        "    misalign.append(misalign_count)\r\n",
        "\r\n",
        "    # Print overall info\r\n",
        "    print('Average forced aligner error (overall):', fa_error)\r\n",
        "    print('Forced aligner misalignment rate:', fa_misalign_count)\r\n",
        "    print('Average pitch detector error (overall):', pd_error)\r\n",
        "    print('Pitch detector misalignment rate:', pd_misalign_count)\r\n",
        "    print('Average combined error (overall):', error)\r\n",
        "    print('Overall misalignment rate:', misalign_count)\r\n",
        "    # plt.plot(residual_cmb_times)\r\n",
        "    # plt.title(raw_filenames[i])\r\n",
        "    # plt.show()\r\n",
        "\r\n",
        "fa_errors = np.array(fa_errors)\r\n",
        "pd_errors = np.array(pd_errors)\r\n",
        "errors = np.array(errors)"
      ],
      "outputs": [
        {
          "output_type": "stream",
          "name": "stdout",
          "text": "===============================================================================\nResults for file en001a\n===============================================================================\n[WARNING] There are 6 NaNs in forced aligner output out of 81 total\nAverage forced aligner error (start): 0.2032534266666671\nAverage forced aligner error (end): 0.28420942666666654\nAverage pitch detector error (start): 0.3351604938271601\nAverage pitch detector error (end): 0.4196604938271606\nAverage combined error (start): 0.22460496913580236\nAverage combined error (end): 0.324998783950617\nAverage forced aligner error (overall): 0.23094739999999964\nForced aligner misalignment rate: 0.18518518518518523\nAverage pitch detector error (overall): 0.3282611111111109\nPitch detector misalignment rate: 0.19753086419753085\nAverage combined error (overall): 0.23284259259259277\nOverall misalignment rate: 0.07407407407407407\n===============================================================================\nResults for file en001b\n===============================================================================\nAverage forced aligner error (start): 0.09997662962962972\nAverage forced aligner error (end): 0.11995055555555502\nAverage pitch detector error (start): 0.308117283950617\nAverage pitch detector error (end): 0.42053827160493856\nAverage combined error (start): 0.1759580555555558\nAverage combined error (end): 0.2987505864197535\nAverage forced aligner error (overall): 0.0892338888888887\nForced aligner misalignment rate: 0.012345679012345734\nAverage pitch detector error (overall): 0.3165771604938267\nPitch detector misalignment rate: 0.14814814814814814\nAverage combined error (overall): 0.20235059876543202\nOverall misalignment rate: 0.04938271604938271\n===============================================================================\nResults for file en003a\n===============================================================================\n[WARNING] There are 33 NaNs in forced aligner output out of 76 total\n[WARNING] Omitting due to > 25% missed forced alignment matches\n===============================================================================\nResults for file en003b\n===============================================================================\n[WARNING] There are 10 NaNs in forced aligner output out of 76 total\nAverage forced aligner error (start): 0.5856302727272729\nAverage forced aligner error (end): 0.6873651818181816\nAverage pitch detector error (start): 0.2579776315789469\nAverage pitch detector error (end): 0.39045131578947306\nAverage combined error (start): 0.18266842763157853\nAverage combined error (end): 0.38144736842105237\nAverage forced aligner error (overall): 0.6195871212121213\nForced aligner misalignment rate: 0.4078947368421053\nAverage pitch detector error (overall): 0.2879302631578941\nPitch detector misalignment rate: 0.17105263157894735\nAverage combined error (overall): 0.2581960690789472\nOverall misalignment rate: 0.11842105263157898\n"
        }
      ],
      "execution_count": 6,
      "metadata": {
        "jupyter": {
          "source_hidden": false,
          "outputs_hidden": false
        },
        "nteract": {
          "transient": {
            "deleting": false
          }
        },
        "gather": {
          "logged": 1641178128773
        }
      }
    },
    {
      "cell_type": "code",
      "source": [
        "# Aggregated results\r\n",
        "print('Average overall error (ms):', round(np.mean(errors) * 1000, 2))\r\n",
        "print('Average overall misalignment % (' + str(misalign_threshold) + ' seconds):', round(np.mean(misalign) * 100, 2))\r\n",
        "print('Average forced aligner error (ms):', round(np.mean(fa_errors) * 1000, 2))\r\n",
        "print('Average forced aligner misalignment % (' + str(misalign_threshold) + ' seconds):', round(np.mean(fa_misalign) * 100, 2))\r\n",
        "print('Average pitch detector error (ms):', round(np.mean(pd_errors) * 1000, 2))\r\n",
        "print('Average pitch detector misalignment % (' + str(misalign_threshold) + ' seconds):', round(np.mean(pd_misalign) * 100, 2))"
      ],
      "outputs": [
        {
          "output_type": "stream",
          "name": "stdout",
          "text": "Average overall error (ms): 231.13\nAverage overall misalignment % (0.5 seconds): 8.06\nAverage forced aligner error (ms): 313.26\nAverage forced aligner misalignment % (0.5 seconds): 20.18\nAverage pitch detector error (ms): 310.92\nAverage pitch detector misalignment % (0.5 seconds): 17.22\n"
        }
      ],
      "execution_count": 7,
      "metadata": {
        "jupyter": {
          "source_hidden": false,
          "outputs_hidden": false
        },
        "nteract": {
          "transient": {
            "deleting": false
          }
        },
        "gather": {
          "logged": 1641178128914
        }
      }
    }
  ],
  "metadata": {
    "kernelspec": {
      "name": "python3-azureml",
      "language": "python",
      "display_name": "Python 3.6 - AzureML"
    },
    "language_info": {
      "name": "python",
      "version": "3.6.9",
      "mimetype": "text/x-python",
      "codemirror_mode": {
        "name": "ipython",
        "version": 3
      },
      "pygments_lexer": "ipython3",
      "nbconvert_exporter": "python",
      "file_extension": ".py"
    },
    "kernel_info": {
      "name": "python3-azureml"
    },
    "nteract": {
      "version": "nteract-front-end@1.0.0"
    },
    "microsoft": {
      "host": {
        "AzureML": {
          "notebookHasBeenCompleted": true
        }
      }
    }
  },
  "nbformat": 4,
  "nbformat_minor": 2
}